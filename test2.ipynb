{
 "cells": [
  {
   "cell_type": "code",
   "execution_count": 8,
   "metadata": {},
   "outputs": [
    {
     "name": "stdout",
     "output_type": "stream",
     "text": [
      "hi\n"
     ]
    }
   ],
   "source": [
    "print('hi')\n",
    "a = 10"
   ]
  },
  {
   "cell_type": "code",
   "execution_count": 18,
   "metadata": {},
   "outputs": [],
   "source": [
    "a = a + 1"
   ]
  },
  {
   "cell_type": "markdown",
   "metadata": {},
   "source": [
    "Hello this is cool"
   ]
  },
  {
   "cell_type": "code",
   "execution_count": 19,
   "metadata": {},
   "outputs": [
    {
     "name": "stdout",
     "output_type": "stream",
     "text": [
      "18\n"
     ]
    }
   ],
   "source": [
    "print(a)"
   ]
  },
  {
   "cell_type": "code",
   "execution_count": null,
   "metadata": {},
   "outputs": [],
   "source": [
    "a = int(6 / 3)\n",
    "a = 6 // 3"
   ]
  },
  {
   "cell_type": "code",
   "execution_count": 26,
   "metadata": {},
   "outputs": [
    {
     "name": "stdout",
     "output_type": "stream",
     "text": [
      "6362286218620327548507834276467506723207316960485084911873572266848040579567394448737156669520852422008626252612463749299053625389249823627240712295963668915306441640962205013271186042048348030571624518383186\n"
     ]
    }
   ],
   "source": [
    "a = 1834765882657693523542534253452345234523452234523459869898080898798868678678687575468576987\n",
    "b = 3467628365426347529234545253254351452345634563465\n",
    "print(a*b)"
   ]
  },
  {
   "cell_type": "code",
   "execution_count": 27,
   "metadata": {},
   "outputs": [
    {
     "data": {
      "text/plain": [
       "3"
      ]
     },
     "execution_count": 27,
     "metadata": {},
     "output_type": "execute_result"
    }
   ],
   "source": [
    "10//3"
   ]
  },
  {
   "cell_type": "code",
   "execution_count": 44,
   "metadata": {},
   "outputs": [
    {
     "data": {
      "text/plain": [
       "10.0"
      ]
     },
     "execution_count": 44,
     "metadata": {},
     "output_type": "execute_result"
    }
   ],
   "source": [
    "2.5 / 2.5 + 3 **2"
   ]
  },
  {
   "cell_type": "code",
   "execution_count": 47,
   "metadata": {},
   "outputs": [
    {
     "name": "stdout",
     "output_type": "stream",
     "text": [
      "25\n"
     ]
    }
   ],
   "source": [
    "a = 5\n",
    "a **= 2\n",
    "print(a)"
   ]
  },
  {
   "cell_type": "code",
   "execution_count": 1,
   "metadata": {},
   "outputs": [],
   "source": [
    "import turtle"
   ]
  },
  {
   "cell_type": "code",
   "execution_count": 6,
   "metadata": {},
   "outputs": [],
   "source": [
    "if 0:\n",
    "    print('yas')"
   ]
  },
  {
   "cell_type": "code",
   "execution_count": 7,
   "metadata": {},
   "outputs": [],
   "source": [
    "if True and False:\n",
    "    print(\"yes\")"
   ]
  },
  {
   "cell_type": "code",
   "execution_count": 15,
   "metadata": {},
   "outputs": [
    {
     "name": "stdout",
     "output_type": "stream",
     "text": [
      "a < 100\n",
      "a < 50\n"
     ]
    }
   ],
   "source": [
    "a = int(input())\n",
    "if(a<100):\n",
    "    print('a < 100')\n",
    "    if(a<50):\n",
    "        print('a < 50')\n",
    "        if(a<25):\n",
    "            print('a < 25')"
   ]
  },
  {
   "cell_type": "code",
   "execution_count": 22,
   "metadata": {},
   "outputs": [
    {
     "name": "stdout",
     "output_type": "stream",
     "text": [
      "a > 10\n",
      "a > 5 and a < 10\n"
     ]
    }
   ],
   "source": [
    "a = int(input())\n",
    "if a > 10:\n",
    "    print('a > 10')\n",
    "if a > 5:  # else if\n",
    "    print('a > 5 and a < 10')\n",
    "else:\n",
    "    print('a < 5')"
   ]
  },
  {
   "cell_type": "code",
   "execution_count": 20,
   "metadata": {},
   "outputs": [
    {
     "name": "stdout",
     "output_type": "stream",
     "text": [
      "1\n"
     ]
    }
   ],
   "source": [
    "l = [1,2,2,3,2,3]\n",
    "print(l[l.index(2)])"
   ]
  },
  {
   "cell_type": "code",
   "execution_count": 26,
   "metadata": {},
   "outputs": [
    {
     "name": "stdout",
     "output_type": "stream",
     "text": [
      "[1, 2, 3, 4, 5, 6, 7, 8, 9, 1, 2, 3, 4, 5, 6, 7, 8, 9]\n"
     ]
    }
   ],
   "source": [
    "l = [1,2,3,4,5,6,7,8,9]\n",
    "l2 = [1,2,3,4,5,6,7,8,9].\n",
    "print(l+l2)"
   ]
  },
  {
   "cell_type": "code",
   "execution_count": 7,
   "metadata": {},
   "outputs": [
    {
     "name": "stdout",
     "output_type": "stream",
     "text": [
      "['1', '2', '4', '6']\n"
     ]
    }
   ],
   "source": [
    "l = [1,2,4,6]\n",
    "x = list(map(str,l))\n",
    "print(x)\n"
   ]
  },
  {
   "cell_type": "code",
   "execution_count": 23,
   "metadata": {},
   "outputs": [
    {
     "ename": "SyntaxError",
     "evalue": "invalid syntax (2056251957.py, line 3)",
     "output_type": "error",
     "traceback": [
      "\u001b[0;36m  Cell \u001b[0;32mIn[23], line 3\u001b[0;36m\u001b[0m\n\u001b[0;31m    add = lambda x,y : list[i for i in x]\u001b[0m\n\u001b[0m                              ^\u001b[0m\n\u001b[0;31mSyntaxError\u001b[0m\u001b[0;31m:\u001b[0m invalid syntax\n"
     ]
    }
   ],
   "source": [
    "list1 = [1, 2, 3, 4]\n",
    "list2 = [5, 6, 7, 8]\n",
    "result = list(map(lambda x, y: x + y, list1, list2))\n",
    "print(result)  # Output: [6, 8, 10, 12]"
   ]
  },
  {
   "cell_type": "code",
   "execution_count": 16,
   "metadata": {},
   "outputs": [
    {
     "name": "stdout",
     "output_type": "stream",
     "text": [
      "{1, 2, 3, 5, 6, 7, 367, 245}\n"
     ]
    }
   ],
   "source": [
    "my_set = {1, 2, 3, 5, 6, 7, 367, 245}\n",
    "print(s)"
   ]
  },
  {
   "cell_type": "code",
   "execution_count": 29,
   "metadata": {},
   "outputs": [
    {
     "ename": "ValueError",
     "evalue": "dictionary update sequence element #0 has length 7; 2 is required",
     "output_type": "error",
     "traceback": [
      "\u001b[0;31m---------------------------------------------------------------------------\u001b[0m",
      "\u001b[0;31mValueError\u001b[0m                                Traceback (most recent call last)",
      "Cell \u001b[0;32mIn[29], line 6\u001b[0m\n\u001b[1;32m      1\u001b[0m dic \u001b[38;5;241m=\u001b[39m {\n\u001b[1;32m      2\u001b[0m     \u001b[38;5;124m\"\u001b[39m\u001b[38;5;124mhi\u001b[39m\u001b[38;5;124m\"\u001b[39m : [\u001b[38;5;241m2\u001b[39m,\u001b[38;5;241m3\u001b[39m,\u001b[38;5;241m4\u001b[39m],\n\u001b[1;32m      3\u001b[0m     \u001b[38;5;124m\"\u001b[39m\u001b[38;5;124mfour\u001b[39m\u001b[38;5;124m\"\u001b[39m : \u001b[38;5;241m4\u001b[39m\n\u001b[1;32m      4\u001b[0m }\n\u001b[1;32m      5\u001b[0m dic\u001b[38;5;241m.\u001b[39mpop(\u001b[38;5;124m\"\u001b[39m\u001b[38;5;124mfour\u001b[39m\u001b[38;5;124m\"\u001b[39m)\n\u001b[0;32m----> 6\u001b[0m \u001b[43mdic\u001b[49m\u001b[38;5;241;43m.\u001b[39;49m\u001b[43mupdate\u001b[49m\u001b[43m(\u001b[49m\u001b[43m{\u001b[49m\u001b[38;5;124;43m\"\u001b[39;49m\u001b[38;5;124;43mheh : 6\u001b[39;49m\u001b[38;5;124;43m\"\u001b[39;49m\u001b[43m}\u001b[49m\u001b[43m)\u001b[49m\n\u001b[1;32m      8\u001b[0m \u001b[38;5;28mprint\u001b[39m(dic)\n",
      "\u001b[0;31mValueError\u001b[0m: dictionary update sequence element #0 has length 7; 2 is required"
     ]
    }
   ],
   "source": [
    "dic = {\n",
    "    \"hi\" : [2,3,4],\n",
    "    \"four\" : 4\n",
    "}\n",
    "dic.pop(\"four\")\n",
    "di\n",
    "\n",
    "print(dic)"
   ]
  },
  {
   "cell_type": "code",
   "execution_count": 45,
   "metadata": {},
   "outputs": [
    {
     "name": "stdout",
     "output_type": "stream",
     "text": [
      "[1, 1, 2, 5, 3, 8, 5, 5, 13, 5, 15, 5, 10, 5, 5, 10, 5, 25, 5, 10, 5, 15, 5, 10, 5, 5, 10, 5, 5, 10, 5, 15, 5, 10, 5, 40, 5, 10, 5, 15, 5, 10, 5, 31, 5, 10, 5, 15, 5, 10, 5, 23, 5, 10, 5, 15, 5, 10, 5, 5, 10, 5, 15, 5, 10, 5, 23, 5, 10, 5, 15, 5, 10, 5, 54, 5, 10, 5, 15, 5, 10, 5, 23, 5, 10, 5, 15, 5, 10, 5, 43, 5, 10, 5, 15, 5, 10, 5, 23, 5, 10, 5, 15, 5, 10, 5, 33, 5, 10, 5, 15, 5, 10, 5, 23, 5, 10, 5, 15, 5, 10, 5, 5, 10, 5, 15, 5, 10, 5, 23, 5, 10, 5, 15, 5, 10, 5, 33, 5, 10, 5, 15, 5, 10, 5, 23, 5, 10, 5, 15, 5, 10, 5, 76, 5, 10, 5, 15, 5, 10, 5, 23, 5, 10, 5, 15, 5, 10, 5, 33, 5, 10, 5, 15, 5, 10, 5, 23, 5, 10, 5, 15, 5, 10, 5, 43, 5, 10, 5, 15, 5, 10, 5, 23, 5, 10, 5, 15, 5, 10, 5, 33, 5, 10, 5, 15, 5, 10, 5, 23, 5, 10, 5, 15, 5, 10, 5, 5, 10, 5, 15, 5, 10, 5, 23, 5, 10, 5, 15, 5, 10, 5, 33, 5, 10, 5, 15, 5, 10, 5, 23, 5, 10, 5, 15, 5, 10, 5, 5, 10, 5, 15, 5, 10, 5, 23, 5, 10, 5, 15, 5, 10, 5, 33, 5, 10, 5, 15, 5, 10, 5, 23, 5, 10, 5, 15, 5, 10, 5, 43, 5, 10, 5, 15, 5, 10, 5, 23, 5, 10, 5, 15, 5, 10, 5, 33, 5, 10, 5, 15, 5, 10, 5, 23, 5, 10, 5, 15, 5, 10, 5, 119, 5, 10, 5, 15, 5, 10, 5, 23, 5, 10, 5, 15, 5, 10, 5, 33, 5, 10, 5, 15, 5, 10, 5, 23, 5, 10, 5, 15, 5, 10, 5, 43, 5, 10, 5, 15, 5, 10, 5, 23, 5, 10, 5, 15, 5, 10, 5, 33, 5, 10, 5, 15, 5, 10, 5, 23, 5, 10, 5, 15, 5, 10, 5, 69, 5, 10, 5, 15, 5, 10, 5, 23, 5, 10, 5, 15, 5, 10, 5, 33, 5, 10, 5, 15, 5, 10, 5, 23, 5, 10, 5, 15, 5, 10, 5, 43, 5, 10, 5, 15, 5, 10, 5, 23, 5, 10, 5, 15, 5, 10, 5, 33, 5, 10, 5, 15, 5, 10, 5, 23, 5, 10, 5, 15, 5, 10, 5, 56, 5, 10, 5, 15, 5, 10, 5, 23, 5, 10, 5, 15, 5, 10, 5, 33, 5, 10, 5, 15, 5, 10, 5, 23, 5, 10, 5, 15, 5, 10, 5, 43, 5, 10, 5, 15, 5, 10, 5, 23, 5, 10, 5, 15, 5, 10, 5, 33, 5, 10, 5, 15, 5, 10, 5, 23, 5, 10, 5, 15, 5, 10, 5]\n"
     ]
    }
   ],
   "source": [
    "arr = [1,1]\n",
    "\n",
    "def fibo(n):\n",
    "    if n in arr:\n",
    "        return n\n",
    "    else:\n",
    "        if n == 1 or n == 2:\n",
    "            return 1\n",
    "        else:\n",
    "            arr.append(fibo(n-1)+fibo(n-2))\n",
    "            return fibo(n-1)+fibo(n-2)\n",
    "fibo(15)\n",
    "print(arr)"
   ]
  }
 ],
 "metadata": {
  "kernelspec": {
   "display_name": "jedi",
   "language": "python",
   "name": "python3"
  },
  "language_info": {
   "codemirror_mode": {
    "name": "ipython",
    "version": 3
   },
   "file_extension": ".py",
   "mimetype": "text/x-python",
   "name": "python",
   "nbconvert_exporter": "python",
   "pygments_lexer": "ipython3",
   "version": "3.11.9"
  }
 },
 "nbformat": 4,
 "nbformat_minor": 2
}
